{
 "cells": [
  {
   "cell_type": "markdown",
   "id": "f274a0ea",
   "metadata": {},
   "source": [
    "<h3 style=\"background-color: #111; padding: 15px; font: bold 30px arial; color: lightgreen; border: 2px solid lime; border-radius: 8px ; text-align: center\">\n",
    "Titanic Classification Models 🚢</h3>"
   ]
  },
  {
   "cell_type": "markdown",
   "id": "10402c76",
   "metadata": {},
   "source": [
    "# **Data Dictionary**\n",
    "About Data: The sinking of the Titanic is one of the most infamous shipwrecks in history.\n",
    "On April 15, 1912, during her maiden voyage, the widely considered “unsinkable” RMS Titanic sank after colliding with an iceberg. Unfortunately, there weren’t enough lifeboats for everyone on board, resulting in the death of 1502 out of 2224 passengers and crew.\n",
    "While there was some element of luck involved in surviving, it seems some groups of people were more likely to survive than others.\n",
    "In this challenge, we ask you to build a predictive model that answers the question: “what sorts of people were more likely to survive?” using passenger data (ie name, age, gender, socio-economic class, etc).\n",
    "\n",
    " ---\n",
    "\n",
    "## **Variable**\t\n",
    "survival\tSurvival\t0 = No, 1 = Yes                                                                                     \n",
    "pclass\tTicket class\t1 = 1st, 2 = 2nd, 3 = 3rd                                                                               \n",
    "sex\tSex\t                                                                                                            \n",
    "Age\tAge in years\t                                                                                                        \n",
    "sibsp\t                                                                                                                                        \n",
    "parch\t\t                                                                                                                \n",
    "ticket\tTicket number\t                                                                                                \n",
    "fare\tPassenger fare\t                                                                                                                    \n",
    "cabin\tCabin number\t                                                                                                            \n",
    "embarked\tPort of Embarkation\tC = Cherbourg, Q = Queenstown, S = Southampton                                                      \n",
    "Variable Notes                                                                                                          \n",
    "pclass: A proxy for socio-economic status (SES)                                                                                     \n",
    "1st = Upper                                                                                                             \n",
    "2nd = Middle                                                                                                                        \n",
    "3rd = Lower                                                                                                                         \n",
    "age: Age is fractional if less than 1. If the age is estimated, is it in the form of xx.5                                                               \n",
    "sibsp: The dataset defines family relations in this way...                                                                                      \n",
    "Sibling = brother, sister, stepbrother, stepsister                                                                                              \n",
    "Spouse = husband, wife (mistresses and fiancés were ignored)                                                                                      \n",
    "parch: The dataset defines family relations in this way...                                                                                  \n",
    "Parent = mother, father                                                                                                 \n",
    "Child = daughter, son, stepdaughter, stepson                                                                                            \n",
    "Some children travelled only with a nanny, therefore parch=0 for them.                              "
   ]
  },
  {
   "cell_type": "markdown",
   "id": "5accb60e",
   "metadata": {},
   "source": [
    "import libraries\n"
   ]
  },
  {
   "cell_type": "code",
   "execution_count": 12,
   "id": "97ec01c4",
   "metadata": {},
   "outputs": [],
   "source": [
    "import pandas as pd\n",
    "import numpy as np\n",
    "import matplotlib.pyplot as plt\n",
    "import seaborn as sns\n",
    "from sklearn.model_selection import train_test_split\n",
    "from sklearn.impute import SimpleImputer, KNNImputer\n",
    "from sklearn.experimental import enable_iterative_imputer \n",
    "from sklearn.impute import IterativeImputer"
   ]
  },
  {
   "cell_type": "markdown",
   "id": "063e4bc6",
   "metadata": {},
   "source": [
    "## **Data collection**\n",
    "- load the data and get info about it"
   ]
  },
  {
   "cell_type": "code",
   "execution_count": null,
   "id": "3e597da1",
   "metadata": {},
   "outputs": [
    {
     "data": {
      "application/vnd.microsoft.datawrangler.viewer.v0+json": {
       "columns": [
        {
         "name": "index",
         "rawType": "int64",
         "type": "integer"
        },
        {
         "name": "PassengerId",
         "rawType": "int64",
         "type": "integer"
        },
        {
         "name": "Survived",
         "rawType": "int64",
         "type": "integer"
        },
        {
         "name": "Pclass",
         "rawType": "int64",
         "type": "integer"
        },
        {
         "name": "Name",
         "rawType": "object",
         "type": "string"
        },
        {
         "name": "Sex",
         "rawType": "object",
         "type": "string"
        },
        {
         "name": "Age",
         "rawType": "float64",
         "type": "float"
        },
        {
         "name": "SibSp",
         "rawType": "int64",
         "type": "integer"
        },
        {
         "name": "Parch",
         "rawType": "int64",
         "type": "integer"
        },
        {
         "name": "Ticket",
         "rawType": "object",
         "type": "string"
        },
        {
         "name": "Fare",
         "rawType": "float64",
         "type": "float"
        },
        {
         "name": "Cabin",
         "rawType": "object",
         "type": "unknown"
        },
        {
         "name": "Embarked",
         "rawType": "object",
         "type": "string"
        }
       ],
       "conversionMethod": "pd.DataFrame",
       "ref": "0e81a358-cb90-4005-9080-e4604fb0c749",
       "rows": [
        [
         "0",
         "1",
         "0",
         "3",
         "Braund, Mr. Owen Harris",
         "male",
         "22.0",
         "1",
         "0",
         "A/5 21171",
         "7.25",
         null,
         "S"
        ],
        [
         "1",
         "2",
         "1",
         "1",
         "Cumings, Mrs. John Bradley (Florence Briggs Thayer)",
         "female",
         "38.0",
         "1",
         "0",
         "PC 17599",
         "71.2833",
         "C85",
         "C"
        ],
        [
         "2",
         "3",
         "1",
         "3",
         "Heikkinen, Miss. Laina",
         "female",
         "26.0",
         "0",
         "0",
         "STON/O2. 3101282",
         "7.925",
         null,
         "S"
        ],
        [
         "3",
         "4",
         "1",
         "1",
         "Futrelle, Mrs. Jacques Heath (Lily May Peel)",
         "female",
         "35.0",
         "1",
         "0",
         "113803",
         "53.1",
         "C123",
         "S"
        ],
        [
         "4",
         "5",
         "0",
         "3",
         "Allen, Mr. William Henry",
         "male",
         "35.0",
         "0",
         "0",
         "373450",
         "8.05",
         null,
         "S"
        ]
       ],
       "shape": {
        "columns": 12,
        "rows": 5
       }
      },
      "text/html": [
       "<div>\n",
       "<style scoped>\n",
       "    .dataframe tbody tr th:only-of-type {\n",
       "        vertical-align: middle;\n",
       "    }\n",
       "\n",
       "    .dataframe tbody tr th {\n",
       "        vertical-align: top;\n",
       "    }\n",
       "\n",
       "    .dataframe thead th {\n",
       "        text-align: right;\n",
       "    }\n",
       "</style>\n",
       "<table border=\"1\" class=\"dataframe\">\n",
       "  <thead>\n",
       "    <tr style=\"text-align: right;\">\n",
       "      <th></th>\n",
       "      <th>PassengerId</th>\n",
       "      <th>Survived</th>\n",
       "      <th>Pclass</th>\n",
       "      <th>Name</th>\n",
       "      <th>Sex</th>\n",
       "      <th>Age</th>\n",
       "      <th>SibSp</th>\n",
       "      <th>Parch</th>\n",
       "      <th>Ticket</th>\n",
       "      <th>Fare</th>\n",
       "      <th>Cabin</th>\n",
       "      <th>Embarked</th>\n",
       "    </tr>\n",
       "  </thead>\n",
       "  <tbody>\n",
       "    <tr>\n",
       "      <th>0</th>\n",
       "      <td>1</td>\n",
       "      <td>0</td>\n",
       "      <td>3</td>\n",
       "      <td>Braund, Mr. Owen Harris</td>\n",
       "      <td>male</td>\n",
       "      <td>22.0</td>\n",
       "      <td>1</td>\n",
       "      <td>0</td>\n",
       "      <td>A/5 21171</td>\n",
       "      <td>7.2500</td>\n",
       "      <td>NaN</td>\n",
       "      <td>S</td>\n",
       "    </tr>\n",
       "    <tr>\n",
       "      <th>1</th>\n",
       "      <td>2</td>\n",
       "      <td>1</td>\n",
       "      <td>1</td>\n",
       "      <td>Cumings, Mrs. John Bradley (Florence Briggs Th...</td>\n",
       "      <td>female</td>\n",
       "      <td>38.0</td>\n",
       "      <td>1</td>\n",
       "      <td>0</td>\n",
       "      <td>PC 17599</td>\n",
       "      <td>71.2833</td>\n",
       "      <td>C85</td>\n",
       "      <td>C</td>\n",
       "    </tr>\n",
       "    <tr>\n",
       "      <th>2</th>\n",
       "      <td>3</td>\n",
       "      <td>1</td>\n",
       "      <td>3</td>\n",
       "      <td>Heikkinen, Miss. Laina</td>\n",
       "      <td>female</td>\n",
       "      <td>26.0</td>\n",
       "      <td>0</td>\n",
       "      <td>0</td>\n",
       "      <td>STON/O2. 3101282</td>\n",
       "      <td>7.9250</td>\n",
       "      <td>NaN</td>\n",
       "      <td>S</td>\n",
       "    </tr>\n",
       "    <tr>\n",
       "      <th>3</th>\n",
       "      <td>4</td>\n",
       "      <td>1</td>\n",
       "      <td>1</td>\n",
       "      <td>Futrelle, Mrs. Jacques Heath (Lily May Peel)</td>\n",
       "      <td>female</td>\n",
       "      <td>35.0</td>\n",
       "      <td>1</td>\n",
       "      <td>0</td>\n",
       "      <td>113803</td>\n",
       "      <td>53.1000</td>\n",
       "      <td>C123</td>\n",
       "      <td>S</td>\n",
       "    </tr>\n",
       "    <tr>\n",
       "      <th>4</th>\n",
       "      <td>5</td>\n",
       "      <td>0</td>\n",
       "      <td>3</td>\n",
       "      <td>Allen, Mr. William Henry</td>\n",
       "      <td>male</td>\n",
       "      <td>35.0</td>\n",
       "      <td>0</td>\n",
       "      <td>0</td>\n",
       "      <td>373450</td>\n",
       "      <td>8.0500</td>\n",
       "      <td>NaN</td>\n",
       "      <td>S</td>\n",
       "    </tr>\n",
       "  </tbody>\n",
       "</table>\n",
       "</div>"
      ],
      "text/plain": [
       "   PassengerId  Survived  Pclass  \\\n",
       "0            1         0       3   \n",
       "1            2         1       1   \n",
       "2            3         1       3   \n",
       "3            4         1       1   \n",
       "4            5         0       3   \n",
       "\n",
       "                                                Name     Sex   Age  SibSp  \\\n",
       "0                            Braund, Mr. Owen Harris    male  22.0      1   \n",
       "1  Cumings, Mrs. John Bradley (Florence Briggs Th...  female  38.0      1   \n",
       "2                             Heikkinen, Miss. Laina  female  26.0      0   \n",
       "3       Futrelle, Mrs. Jacques Heath (Lily May Peel)  female  35.0      1   \n",
       "4                           Allen, Mr. William Henry    male  35.0      0   \n",
       "\n",
       "   Parch            Ticket     Fare Cabin Embarked  \n",
       "0      0         A/5 21171   7.2500   NaN        S  \n",
       "1      0          PC 17599  71.2833   C85        C  \n",
       "2      0  STON/O2. 3101282   7.9250   NaN        S  \n",
       "3      0            113803  53.1000  C123        S  \n",
       "4      0            373450   8.0500   NaN        S  "
      ]
     },
     "execution_count": 2,
     "metadata": {},
     "output_type": "execute_result"
    }
   ],
   "source": [
    "df=pd.read_csv('./DataSet/df_clean-Dataset.csv')\n",
    "df.head()"
   ]
  },
  {
   "cell_type": "code",
   "execution_count": 3,
   "id": "bfb6fa64",
   "metadata": {},
   "outputs": [
    {
     "data": {
      "application/vnd.microsoft.datawrangler.viewer.v0+json": {
       "columns": [
        {
         "name": "index",
         "rawType": "int64",
         "type": "integer"
        },
        {
         "name": "PassengerId",
         "rawType": "int64",
         "type": "integer"
        },
        {
         "name": "Survived",
         "rawType": "int64",
         "type": "integer"
        },
        {
         "name": "Pclass",
         "rawType": "int64",
         "type": "integer"
        },
        {
         "name": "Name",
         "rawType": "object",
         "type": "string"
        },
        {
         "name": "Sex",
         "rawType": "object",
         "type": "string"
        },
        {
         "name": "Age",
         "rawType": "float64",
         "type": "float"
        },
        {
         "name": "SibSp",
         "rawType": "int64",
         "type": "integer"
        },
        {
         "name": "Parch",
         "rawType": "int64",
         "type": "integer"
        },
        {
         "name": "Ticket",
         "rawType": "object",
         "type": "string"
        },
        {
         "name": "Fare",
         "rawType": "float64",
         "type": "float"
        },
        {
         "name": "Cabin",
         "rawType": "object",
         "type": "unknown"
        },
        {
         "name": "Embarked",
         "rawType": "object",
         "type": "string"
        }
       ],
       "conversionMethod": "pd.DataFrame",
       "ref": "eeaef355-a574-4d16-af9b-1934779cf5c4",
       "rows": [
        [
         "886",
         "887",
         "0",
         "2",
         "Montvila, Rev. Juozas",
         "male",
         "27.0",
         "0",
         "0",
         "211536",
         "13.0",
         null,
         "S"
        ],
        [
         "887",
         "888",
         "1",
         "1",
         "Graham, Miss. Margaret Edith",
         "female",
         "19.0",
         "0",
         "0",
         "112053",
         "30.0",
         "B42",
         "S"
        ],
        [
         "888",
         "889",
         "0",
         "3",
         "Johnston, Miss. Catherine Helen \"Carrie\"",
         "female",
         null,
         "1",
         "2",
         "W./C. 6607",
         "23.45",
         null,
         "S"
        ],
        [
         "889",
         "890",
         "1",
         "1",
         "Behr, Mr. Karl Howell",
         "male",
         "26.0",
         "0",
         "0",
         "111369",
         "30.0",
         "C148",
         "C"
        ],
        [
         "890",
         "891",
         "0",
         "3",
         "Dooley, Mr. Patrick",
         "male",
         "32.0",
         "0",
         "0",
         "370376",
         "7.75",
         null,
         "Q"
        ]
       ],
       "shape": {
        "columns": 12,
        "rows": 5
       }
      },
      "text/html": [
       "<div>\n",
       "<style scoped>\n",
       "    .dataframe tbody tr th:only-of-type {\n",
       "        vertical-align: middle;\n",
       "    }\n",
       "\n",
       "    .dataframe tbody tr th {\n",
       "        vertical-align: top;\n",
       "    }\n",
       "\n",
       "    .dataframe thead th {\n",
       "        text-align: right;\n",
       "    }\n",
       "</style>\n",
       "<table border=\"1\" class=\"dataframe\">\n",
       "  <thead>\n",
       "    <tr style=\"text-align: right;\">\n",
       "      <th></th>\n",
       "      <th>PassengerId</th>\n",
       "      <th>Survived</th>\n",
       "      <th>Pclass</th>\n",
       "      <th>Name</th>\n",
       "      <th>Sex</th>\n",
       "      <th>Age</th>\n",
       "      <th>SibSp</th>\n",
       "      <th>Parch</th>\n",
       "      <th>Ticket</th>\n",
       "      <th>Fare</th>\n",
       "      <th>Cabin</th>\n",
       "      <th>Embarked</th>\n",
       "    </tr>\n",
       "  </thead>\n",
       "  <tbody>\n",
       "    <tr>\n",
       "      <th>886</th>\n",
       "      <td>887</td>\n",
       "      <td>0</td>\n",
       "      <td>2</td>\n",
       "      <td>Montvila, Rev. Juozas</td>\n",
       "      <td>male</td>\n",
       "      <td>27.0</td>\n",
       "      <td>0</td>\n",
       "      <td>0</td>\n",
       "      <td>211536</td>\n",
       "      <td>13.00</td>\n",
       "      <td>NaN</td>\n",
       "      <td>S</td>\n",
       "    </tr>\n",
       "    <tr>\n",
       "      <th>887</th>\n",
       "      <td>888</td>\n",
       "      <td>1</td>\n",
       "      <td>1</td>\n",
       "      <td>Graham, Miss. Margaret Edith</td>\n",
       "      <td>female</td>\n",
       "      <td>19.0</td>\n",
       "      <td>0</td>\n",
       "      <td>0</td>\n",
       "      <td>112053</td>\n",
       "      <td>30.00</td>\n",
       "      <td>B42</td>\n",
       "      <td>S</td>\n",
       "    </tr>\n",
       "    <tr>\n",
       "      <th>888</th>\n",
       "      <td>889</td>\n",
       "      <td>0</td>\n",
       "      <td>3</td>\n",
       "      <td>Johnston, Miss. Catherine Helen \"Carrie\"</td>\n",
       "      <td>female</td>\n",
       "      <td>NaN</td>\n",
       "      <td>1</td>\n",
       "      <td>2</td>\n",
       "      <td>W./C. 6607</td>\n",
       "      <td>23.45</td>\n",
       "      <td>NaN</td>\n",
       "      <td>S</td>\n",
       "    </tr>\n",
       "    <tr>\n",
       "      <th>889</th>\n",
       "      <td>890</td>\n",
       "      <td>1</td>\n",
       "      <td>1</td>\n",
       "      <td>Behr, Mr. Karl Howell</td>\n",
       "      <td>male</td>\n",
       "      <td>26.0</td>\n",
       "      <td>0</td>\n",
       "      <td>0</td>\n",
       "      <td>111369</td>\n",
       "      <td>30.00</td>\n",
       "      <td>C148</td>\n",
       "      <td>C</td>\n",
       "    </tr>\n",
       "    <tr>\n",
       "      <th>890</th>\n",
       "      <td>891</td>\n",
       "      <td>0</td>\n",
       "      <td>3</td>\n",
       "      <td>Dooley, Mr. Patrick</td>\n",
       "      <td>male</td>\n",
       "      <td>32.0</td>\n",
       "      <td>0</td>\n",
       "      <td>0</td>\n",
       "      <td>370376</td>\n",
       "      <td>7.75</td>\n",
       "      <td>NaN</td>\n",
       "      <td>Q</td>\n",
       "    </tr>\n",
       "  </tbody>\n",
       "</table>\n",
       "</div>"
      ],
      "text/plain": [
       "     PassengerId  Survived  Pclass                                      Name  \\\n",
       "886          887         0       2                     Montvila, Rev. Juozas   \n",
       "887          888         1       1              Graham, Miss. Margaret Edith   \n",
       "888          889         0       3  Johnston, Miss. Catherine Helen \"Carrie\"   \n",
       "889          890         1       1                     Behr, Mr. Karl Howell   \n",
       "890          891         0       3                       Dooley, Mr. Patrick   \n",
       "\n",
       "        Sex   Age  SibSp  Parch      Ticket   Fare Cabin Embarked  \n",
       "886    male  27.0      0      0      211536  13.00   NaN        S  \n",
       "887  female  19.0      0      0      112053  30.00   B42        S  \n",
       "888  female   NaN      1      2  W./C. 6607  23.45   NaN        S  \n",
       "889    male  26.0      0      0      111369  30.00  C148        C  \n",
       "890    male  32.0      0      0      370376   7.75   NaN        Q  "
      ]
     },
     "execution_count": 3,
     "metadata": {},
     "output_type": "execute_result"
    }
   ],
   "source": [
    "df.tail()"
   ]
  },
  {
   "cell_type": "code",
   "execution_count": 4,
   "id": "76522d19",
   "metadata": {},
   "outputs": [
    {
     "name": "stdout",
     "output_type": "stream",
     "text": [
      "<class 'pandas.core.frame.DataFrame'>\n",
      "RangeIndex: 891 entries, 0 to 890\n",
      "Data columns (total 12 columns):\n",
      " #   Column       Non-Null Count  Dtype  \n",
      "---  ------       --------------  -----  \n",
      " 0   PassengerId  891 non-null    int64  \n",
      " 1   Survived     891 non-null    int64  \n",
      " 2   Pclass       891 non-null    int64  \n",
      " 3   Name         891 non-null    object \n",
      " 4   Sex          891 non-null    object \n",
      " 5   Age          714 non-null    float64\n",
      " 6   SibSp        891 non-null    int64  \n",
      " 7   Parch        891 non-null    int64  \n",
      " 8   Ticket       891 non-null    object \n",
      " 9   Fare         891 non-null    float64\n",
      " 10  Cabin        204 non-null    object \n",
      " 11  Embarked     889 non-null    object \n",
      "dtypes: float64(2), int64(5), object(5)\n",
      "memory usage: 83.7+ KB\n"
     ]
    }
   ],
   "source": [
    "df.info()"
   ]
  },
  {
   "cell_type": "code",
   "execution_count": 5,
   "id": "907648da",
   "metadata": {},
   "outputs": [
    {
     "data": {
      "application/vnd.microsoft.datawrangler.viewer.v0+json": {
       "columns": [
        {
         "name": "index",
         "rawType": "object",
         "type": "string"
        },
        {
         "name": "PassengerId",
         "rawType": "float64",
         "type": "float"
        },
        {
         "name": "Survived",
         "rawType": "float64",
         "type": "float"
        },
        {
         "name": "Pclass",
         "rawType": "float64",
         "type": "float"
        },
        {
         "name": "Age",
         "rawType": "float64",
         "type": "float"
        },
        {
         "name": "SibSp",
         "rawType": "float64",
         "type": "float"
        },
        {
         "name": "Parch",
         "rawType": "float64",
         "type": "float"
        },
        {
         "name": "Fare",
         "rawType": "float64",
         "type": "float"
        }
       ],
       "conversionMethod": "pd.DataFrame",
       "ref": "8d50cfd2-2abb-4693-97f8-3d363b16b9c2",
       "rows": [
        [
         "count",
         "891.0",
         "891.0",
         "891.0",
         "714.0",
         "891.0",
         "891.0",
         "891.0"
        ],
        [
         "mean",
         "446.0",
         "0.3838383838383838",
         "2.308641975308642",
         "29.69911764705882",
         "0.5230078563411896",
         "0.38159371492704824",
         "32.204207968574636"
        ],
        [
         "std",
         "257.3538420152301",
         "0.4865924542648575",
         "0.836071240977049",
         "14.526497332334042",
         "1.1027434322934317",
         "0.8060572211299483",
         "49.6934285971809"
        ],
        [
         "min",
         "1.0",
         "0.0",
         "1.0",
         "0.42",
         "0.0",
         "0.0",
         "0.0"
        ],
        [
         "25%",
         "223.5",
         "0.0",
         "2.0",
         "20.125",
         "0.0",
         "0.0",
         "7.9104"
        ],
        [
         "50%",
         "446.0",
         "0.0",
         "3.0",
         "28.0",
         "0.0",
         "0.0",
         "14.4542"
        ],
        [
         "75%",
         "668.5",
         "1.0",
         "3.0",
         "38.0",
         "1.0",
         "0.0",
         "31.0"
        ],
        [
         "max",
         "891.0",
         "1.0",
         "3.0",
         "80.0",
         "8.0",
         "6.0",
         "512.3292"
        ]
       ],
       "shape": {
        "columns": 7,
        "rows": 8
       }
      },
      "text/html": [
       "<div>\n",
       "<style scoped>\n",
       "    .dataframe tbody tr th:only-of-type {\n",
       "        vertical-align: middle;\n",
       "    }\n",
       "\n",
       "    .dataframe tbody tr th {\n",
       "        vertical-align: top;\n",
       "    }\n",
       "\n",
       "    .dataframe thead th {\n",
       "        text-align: right;\n",
       "    }\n",
       "</style>\n",
       "<table border=\"1\" class=\"dataframe\">\n",
       "  <thead>\n",
       "    <tr style=\"text-align: right;\">\n",
       "      <th></th>\n",
       "      <th>PassengerId</th>\n",
       "      <th>Survived</th>\n",
       "      <th>Pclass</th>\n",
       "      <th>Age</th>\n",
       "      <th>SibSp</th>\n",
       "      <th>Parch</th>\n",
       "      <th>Fare</th>\n",
       "    </tr>\n",
       "  </thead>\n",
       "  <tbody>\n",
       "    <tr>\n",
       "      <th>count</th>\n",
       "      <td>891.000000</td>\n",
       "      <td>891.000000</td>\n",
       "      <td>891.000000</td>\n",
       "      <td>714.000000</td>\n",
       "      <td>891.000000</td>\n",
       "      <td>891.000000</td>\n",
       "      <td>891.000000</td>\n",
       "    </tr>\n",
       "    <tr>\n",
       "      <th>mean</th>\n",
       "      <td>446.000000</td>\n",
       "      <td>0.383838</td>\n",
       "      <td>2.308642</td>\n",
       "      <td>29.699118</td>\n",
       "      <td>0.523008</td>\n",
       "      <td>0.381594</td>\n",
       "      <td>32.204208</td>\n",
       "    </tr>\n",
       "    <tr>\n",
       "      <th>std</th>\n",
       "      <td>257.353842</td>\n",
       "      <td>0.486592</td>\n",
       "      <td>0.836071</td>\n",
       "      <td>14.526497</td>\n",
       "      <td>1.102743</td>\n",
       "      <td>0.806057</td>\n",
       "      <td>49.693429</td>\n",
       "    </tr>\n",
       "    <tr>\n",
       "      <th>min</th>\n",
       "      <td>1.000000</td>\n",
       "      <td>0.000000</td>\n",
       "      <td>1.000000</td>\n",
       "      <td>0.420000</td>\n",
       "      <td>0.000000</td>\n",
       "      <td>0.000000</td>\n",
       "      <td>0.000000</td>\n",
       "    </tr>\n",
       "    <tr>\n",
       "      <th>25%</th>\n",
       "      <td>223.500000</td>\n",
       "      <td>0.000000</td>\n",
       "      <td>2.000000</td>\n",
       "      <td>20.125000</td>\n",
       "      <td>0.000000</td>\n",
       "      <td>0.000000</td>\n",
       "      <td>7.910400</td>\n",
       "    </tr>\n",
       "    <tr>\n",
       "      <th>50%</th>\n",
       "      <td>446.000000</td>\n",
       "      <td>0.000000</td>\n",
       "      <td>3.000000</td>\n",
       "      <td>28.000000</td>\n",
       "      <td>0.000000</td>\n",
       "      <td>0.000000</td>\n",
       "      <td>14.454200</td>\n",
       "    </tr>\n",
       "    <tr>\n",
       "      <th>75%</th>\n",
       "      <td>668.500000</td>\n",
       "      <td>1.000000</td>\n",
       "      <td>3.000000</td>\n",
       "      <td>38.000000</td>\n",
       "      <td>1.000000</td>\n",
       "      <td>0.000000</td>\n",
       "      <td>31.000000</td>\n",
       "    </tr>\n",
       "    <tr>\n",
       "      <th>max</th>\n",
       "      <td>891.000000</td>\n",
       "      <td>1.000000</td>\n",
       "      <td>3.000000</td>\n",
       "      <td>80.000000</td>\n",
       "      <td>8.000000</td>\n",
       "      <td>6.000000</td>\n",
       "      <td>512.329200</td>\n",
       "    </tr>\n",
       "  </tbody>\n",
       "</table>\n",
       "</div>"
      ],
      "text/plain": [
       "       PassengerId    Survived      Pclass         Age       SibSp  \\\n",
       "count   891.000000  891.000000  891.000000  714.000000  891.000000   \n",
       "mean    446.000000    0.383838    2.308642   29.699118    0.523008   \n",
       "std     257.353842    0.486592    0.836071   14.526497    1.102743   \n",
       "min       1.000000    0.000000    1.000000    0.420000    0.000000   \n",
       "25%     223.500000    0.000000    2.000000   20.125000    0.000000   \n",
       "50%     446.000000    0.000000    3.000000   28.000000    0.000000   \n",
       "75%     668.500000    1.000000    3.000000   38.000000    1.000000   \n",
       "max     891.000000    1.000000    3.000000   80.000000    8.000000   \n",
       "\n",
       "            Parch        Fare  \n",
       "count  891.000000  891.000000  \n",
       "mean     0.381594   32.204208  \n",
       "std      0.806057   49.693429  \n",
       "min      0.000000    0.000000  \n",
       "25%      0.000000    7.910400  \n",
       "50%      0.000000   14.454200  \n",
       "75%      0.000000   31.000000  \n",
       "max      6.000000  512.329200  "
      ]
     },
     "execution_count": 5,
     "metadata": {},
     "output_type": "execute_result"
    }
   ],
   "source": [
    "df.describe()"
   ]
  },
  {
   "cell_type": "code",
   "execution_count": 6,
   "id": "7045f617",
   "metadata": {},
   "outputs": [
    {
     "data": {
      "text/plain": [
       "PassengerId    0.000000\n",
       "Survived       0.478523\n",
       "Pclass        -0.630548\n",
       "Age            0.389108\n",
       "SibSp          3.695352\n",
       "Parch          2.749117\n",
       "Fare           4.787317\n",
       "dtype: float64"
      ]
     },
     "execution_count": 6,
     "metadata": {},
     "output_type": "execute_result"
    }
   ],
   "source": [
    "numerical_df=df.select_dtypes(include=['int64','float64'])\n",
    "numerical_df.skew()"
   ]
  },
  {
   "cell_type": "code",
   "execution_count": 7,
   "id": "22626bfb",
   "metadata": {},
   "outputs": [
    {
     "data": {
      "text/plain": [
       "PassengerId      int64\n",
       "Survived         int64\n",
       "Pclass           int64\n",
       "Name            object\n",
       "Sex             object\n",
       "Age            float64\n",
       "SibSp            int64\n",
       "Parch            int64\n",
       "Ticket          object\n",
       "Fare           float64\n",
       "Cabin           object\n",
       "Embarked        object\n",
       "dtype: object"
      ]
     },
     "execution_count": 7,
     "metadata": {},
     "output_type": "execute_result"
    }
   ],
   "source": [
    "df.dtypes"
   ]
  },
  {
   "cell_type": "markdown",
   "id": "6c5de970",
   "metadata": {},
   "source": [
    "## **Data Cleaning**\n",
    "- handle missing data\n",
    "- handle duplicates\n",
    "- handle outliers\n",
    "- handle categorical data\n",
    "- handle imbalanced data\n",
    "  "
   ]
  },
  {
   "cell_type": "markdown",
   "id": "81ae68fe",
   "metadata": {},
   "source": [
    "### **Missing Data**"
   ]
  },
  {
   "cell_type": "code",
   "execution_count": null,
   "id": "4cb2003a",
   "metadata": {},
   "outputs": [],
   "source": [
    "def check_missing(df):\n",
    "    if df.isnull().sum().sum() == 0:\n",
    "        return 'No Missing Data'\n",
    "    else: \n",
    "         total = df.isnull().sum().sort_values(ascending=False)\n",
    "         percent = (df.isnull().sum()/df.isnull().count()).sort_values(ascending=False)\n",
    "         missing_data = pd.concat([total, percent], axis=1, keys=['Total', 'Percent'])\n",
    "    return missing_data\n",
    "\n",
    "\n",
    "import numpy as np\n",
    "import pandas as pd\n",
    "from sklearn.experimental import enable_iterative_imputer  # noqa\n",
    "from sklearn.impute import IterativeImputer\n",
    "\n",
    "def auto_impute_missing(\n",
    "    df: pd.DataFrame,\n",
    "    add_missing_indicator: bool = False,\n",
    "    drop_threshold: float = 0.5,\n",
    "    random_state: int = 0,\n",
    "    max_iter: int = 10\n",
    ") ->(pd.DataFrame, pd.DataFrame):\n",
    "    \"\"\"\n",
    "    Automatically imputes missing values based on column type, without using logging:\n",
    "      - Numeric: Iterative Imputation (MICE)\n",
    "      - Categorical: Mode imputation\n",
    "      - Dates: Forward filling\n",
    "      - Boolean: Mode imputation\n",
    "\n",
    "    Also optionally drops columns with too many missing values,\n",
    "    and can add missing‐value indicator flags.\n",
    "\n",
    "    Parameters\n",
    "    ----------\n",
    "    df : pd.DataFrame\n",
    "        Input DataFrame with missing values.\n",
    "    add_missing_indicator : bool, default=False\n",
    "        If True, adds a boolean column `<col>_missing` for each original col.\n",
    "    drop_threshold : float, default=0.5\n",
    "        Drop any column whose fraction of missing ≥ this threshold.\n",
    "    random_state : int\n",
    "        Random state for the IterativeImputer.\n",
    "    max_iter : int\n",
    "        Maximum iterations for the IterativeImputer.\n",
    "\n",
    "    Returns\n",
    "    -------\n",
    "    df_imputed : pd.DataFrame\n",
    "        DataFrame after dropping and imputing.\n",
    "    missing_summary : pd.DataFrame\n",
    "        Summary table showing total & percent missing per column\n",
    "        before any operations.\n",
    "    \"\"\"\n",
    "    df_imputed = df.copy()\n",
    "    # 1) Compute missing-summary\n",
    "    total_missing = df_imputed.isna().sum()\n",
    "    pct_missing = total_missing / len(df_imputed)\n",
    "    missing_summary = pd.DataFrame({\n",
    "        'total': total_missing,\n",
    "        'percent': pct_missing\n",
    "    }).sort_values('percent', ascending=False)\n",
    "\n",
    "    # If no missing at all, return immediately\n",
    "    if missing_summary['total'].sum() == 0:\n",
    "        print(\"No missing data detected.\")\n",
    "        return df_imputed, missing_summary\n",
    "\n",
    "    print(\"Missing data summary:\\n\", missing_summary)\n",
    "\n",
    "    # 2) Drop high-missing columns\n",
    "    to_drop = missing_summary[missing_summary['percent'] >= drop_threshold].index.tolist()\n",
    "    if to_drop:\n",
    "        df_imputed.drop(columns=to_drop, inplace=True)\n",
    "        print(f\"Dropped columns (≥ {drop_threshold*100:.0f}% missing): {to_drop}\")\n",
    "\n",
    "    # 4) Identify types on the remaining columns\n",
    "    num_cols = df_imputed.select_dtypes(include=np.number).columns\n",
    "    cat_cols = df_imputed.select_dtypes(include=['object', 'category']).columns\n",
    "    date_cols = df_imputed.select_dtypes(include=['datetime64[ns]', 'datetimetz']).columns\n",
    "    bool_cols = df_imputed.select_dtypes(include='bool').columns\n",
    "\n",
    "    # 5) Impute numeric via MICE\n",
    "    if len(num_cols) > 0:\n",
    "        imputer = IterativeImputer(max_iter=max_iter, random_state=random_state)\n",
    "        df_imputed[num_cols] = imputer.fit_transform(df_imputed[num_cols])\n",
    "        print(\"Imputed numeric columns via IterativeImputer:\", list(num_cols))\n",
    "\n",
    "    # 6) Impute categoricals via mode\n",
    "    for col in cat_cols:\n",
    "        mode_series = df_imputed[col].mode(dropna=True)\n",
    "        fill_val = mode_series.iloc[0] if not mode_series.empty else \"Missing\"\n",
    "        df_imputed[col].fillna(fill_val, inplace=True)\n",
    "    if len(cat_cols) > 0:\n",
    "        print(\"Imputed categorical columns via mode:\", list(cat_cols))\n",
    "\n",
    "    # 7) Forward-fill date columns\n",
    "    for col in date_cols:\n",
    "        df_imputed[col].fillna(method='ffill', inplace=True)\n",
    "    if len(date_cols) > 0:\n",
    "        print(\"Forward-filled date columns:\", list(date_cols))\n",
    "    # 8) Impute booleans via mode\n",
    "    for col in bool_cols:\n",
    "        mode_series = df_imputed[col].mode(dropna=True)\n",
    "        fill_val = bool(mode_series.iloc[0]) if not mode_series.empty else False\n",
    "        df_imputed[col].fillna(fill_val, inplace=True)\n",
    "    if len(bool_cols) > 0:\n",
    "        print(\"Imputed boolean columns via mode:\", list(bool_cols))\n",
    "\n",
    "    return df_imputed, missing_summary\n"
   ]
  },
  {
   "cell_type": "code",
   "execution_count": 22,
   "id": "d6489e5f",
   "metadata": {},
   "outputs": [
    {
     "data": {
      "text/plain": [
       "PassengerId      0\n",
       "Survived         0\n",
       "Pclass           0\n",
       "Name             0\n",
       "Sex              0\n",
       "Age            177\n",
       "SibSp            0\n",
       "Parch            0\n",
       "Ticket           0\n",
       "Fare             0\n",
       "Cabin          687\n",
       "Embarked         2\n",
       "dtype: int64"
      ]
     },
     "execution_count": 22,
     "metadata": {},
     "output_type": "execute_result"
    }
   ],
   "source": [
    "df.isnull().sum()"
   ]
  },
  {
   "cell_type": "code",
   "execution_count": 23,
   "id": "e5308e01",
   "metadata": {},
   "outputs": [
    {
     "data": {
      "application/vnd.microsoft.datawrangler.viewer.v0+json": {
       "columns": [
        {
         "name": "index",
         "rawType": "object",
         "type": "string"
        },
        {
         "name": "Total",
         "rawType": "int64",
         "type": "integer"
        },
        {
         "name": "Percent",
         "rawType": "float64",
         "type": "float"
        }
       ],
       "conversionMethod": "pd.DataFrame",
       "ref": "45595edf-eefd-46f0-9746-1769d5f46b68",
       "rows": [
        [
         "Cabin",
         "687",
         "0.7710437710437711"
        ],
        [
         "Age",
         "177",
         "0.19865319865319866"
        ],
        [
         "Embarked",
         "2",
         "0.002244668911335578"
        ],
        [
         "PassengerId",
         "0",
         "0.0"
        ],
        [
         "Survived",
         "0",
         "0.0"
        ],
        [
         "Pclass",
         "0",
         "0.0"
        ],
        [
         "Name",
         "0",
         "0.0"
        ],
        [
         "Sex",
         "0",
         "0.0"
        ],
        [
         "SibSp",
         "0",
         "0.0"
        ],
        [
         "Parch",
         "0",
         "0.0"
        ],
        [
         "Ticket",
         "0",
         "0.0"
        ],
        [
         "Fare",
         "0",
         "0.0"
        ]
       ],
       "shape": {
        "columns": 2,
        "rows": 12
       }
      },
      "text/html": [
       "<div>\n",
       "<style scoped>\n",
       "    .dataframe tbody tr th:only-of-type {\n",
       "        vertical-align: middle;\n",
       "    }\n",
       "\n",
       "    .dataframe tbody tr th {\n",
       "        vertical-align: top;\n",
       "    }\n",
       "\n",
       "    .dataframe thead th {\n",
       "        text-align: right;\n",
       "    }\n",
       "</style>\n",
       "<table border=\"1\" class=\"dataframe\">\n",
       "  <thead>\n",
       "    <tr style=\"text-align: right;\">\n",
       "      <th></th>\n",
       "      <th>Total</th>\n",
       "      <th>Percent</th>\n",
       "    </tr>\n",
       "  </thead>\n",
       "  <tbody>\n",
       "    <tr>\n",
       "      <th>Cabin</th>\n",
       "      <td>687</td>\n",
       "      <td>0.771044</td>\n",
       "    </tr>\n",
       "    <tr>\n",
       "      <th>Age</th>\n",
       "      <td>177</td>\n",
       "      <td>0.198653</td>\n",
       "    </tr>\n",
       "    <tr>\n",
       "      <th>Embarked</th>\n",
       "      <td>2</td>\n",
       "      <td>0.002245</td>\n",
       "    </tr>\n",
       "    <tr>\n",
       "      <th>PassengerId</th>\n",
       "      <td>0</td>\n",
       "      <td>0.000000</td>\n",
       "    </tr>\n",
       "    <tr>\n",
       "      <th>Survived</th>\n",
       "      <td>0</td>\n",
       "      <td>0.000000</td>\n",
       "    </tr>\n",
       "    <tr>\n",
       "      <th>Pclass</th>\n",
       "      <td>0</td>\n",
       "      <td>0.000000</td>\n",
       "    </tr>\n",
       "    <tr>\n",
       "      <th>Name</th>\n",
       "      <td>0</td>\n",
       "      <td>0.000000</td>\n",
       "    </tr>\n",
       "    <tr>\n",
       "      <th>Sex</th>\n",
       "      <td>0</td>\n",
       "      <td>0.000000</td>\n",
       "    </tr>\n",
       "    <tr>\n",
       "      <th>SibSp</th>\n",
       "      <td>0</td>\n",
       "      <td>0.000000</td>\n",
       "    </tr>\n",
       "    <tr>\n",
       "      <th>Parch</th>\n",
       "      <td>0</td>\n",
       "      <td>0.000000</td>\n",
       "    </tr>\n",
       "    <tr>\n",
       "      <th>Ticket</th>\n",
       "      <td>0</td>\n",
       "      <td>0.000000</td>\n",
       "    </tr>\n",
       "    <tr>\n",
       "      <th>Fare</th>\n",
       "      <td>0</td>\n",
       "      <td>0.000000</td>\n",
       "    </tr>\n",
       "  </tbody>\n",
       "</table>\n",
       "</div>"
      ],
      "text/plain": [
       "             Total   Percent\n",
       "Cabin          687  0.771044\n",
       "Age            177  0.198653\n",
       "Embarked         2  0.002245\n",
       "PassengerId      0  0.000000\n",
       "Survived         0  0.000000\n",
       "Pclass           0  0.000000\n",
       "Name             0  0.000000\n",
       "Sex              0  0.000000\n",
       "SibSp            0  0.000000\n",
       "Parch            0  0.000000\n",
       "Ticket           0  0.000000\n",
       "Fare             0  0.000000"
      ]
     },
     "execution_count": 23,
     "metadata": {},
     "output_type": "execute_result"
    }
   ],
   "source": [
    "check_missing(df)"
   ]
  },
  {
   "cell_type": "code",
   "execution_count": 24,
   "id": "826d1c79",
   "metadata": {},
   "outputs": [
    {
     "name": "stdout",
     "output_type": "stream",
     "text": [
      "Missing data summary:\n",
      "              total   percent\n",
      "Cabin          687  0.771044\n",
      "Age            177  0.198653\n",
      "Embarked         2  0.002245\n",
      "PassengerId      0  0.000000\n",
      "Survived         0  0.000000\n",
      "Pclass           0  0.000000\n",
      "Name             0  0.000000\n",
      "Sex              0  0.000000\n",
      "SibSp            0  0.000000\n",
      "Parch            0  0.000000\n",
      "Ticket           0  0.000000\n",
      "Fare             0  0.000000\n",
      "Dropped columns (≥ 50% missing): ['Cabin']\n",
      "Imputed numeric columns via IterativeImputer: ['PassengerId', 'Survived', 'Pclass', 'Age', 'SibSp', 'Parch', 'Fare']\n",
      "Imputed categorical columns via mode: ['Name', 'Sex', 'Ticket', 'Embarked']\n"
     ]
    },
    {
     "name": "stderr",
     "output_type": "stream",
     "text": [
      "C:\\Users\\DELL\\AppData\\Local\\Temp\\ipykernel_3204\\649044641.py:92: FutureWarning: A value is trying to be set on a copy of a DataFrame or Series through chained assignment using an inplace method.\n",
      "The behavior will change in pandas 3.0. This inplace method will never work because the intermediate object on which we are setting values always behaves as a copy.\n",
      "\n",
      "For example, when doing 'df[col].method(value, inplace=True)', try using 'df.method({col: value}, inplace=True)' or df[col] = df[col].method(value) instead, to perform the operation inplace on the original object.\n",
      "\n",
      "\n",
      "  df_imputed[col].fillna(fill_val, inplace=True)\n"
     ]
    }
   ],
   "source": [
    "df_clean, miss = auto_impute_missing(df, drop_threshold=0.5, add_missing_indicator=True)"
   ]
  },
  {
   "cell_type": "code",
   "execution_count": 25,
   "id": "261ec6d5",
   "metadata": {},
   "outputs": [
    {
     "name": "stdout",
     "output_type": "stream",
     "text": [
      "<class 'pandas.core.frame.DataFrame'>\n",
      "RangeIndex: 891 entries, 0 to 890\n",
      "Data columns (total 11 columns):\n",
      " #   Column       Non-Null Count  Dtype  \n",
      "---  ------       --------------  -----  \n",
      " 0   PassengerId  891 non-null    float64\n",
      " 1   Survived     891 non-null    float64\n",
      " 2   Pclass       891 non-null    float64\n",
      " 3   Name         891 non-null    object \n",
      " 4   Sex          891 non-null    object \n",
      " 5   Age          891 non-null    float64\n",
      " 6   SibSp        891 non-null    float64\n",
      " 7   Parch        891 non-null    float64\n",
      " 8   Ticket       891 non-null    object \n",
      " 9   Fare         891 non-null    float64\n",
      " 10  Embarked     891 non-null    object \n",
      "dtypes: float64(7), object(4)\n",
      "memory usage: 76.7+ KB\n"
     ]
    }
   ],
   "source": [
    "df_clean.info()"
   ]
  },
  {
   "cell_type": "code",
   "execution_count": 19,
   "id": "a9877a33",
   "metadata": {},
   "outputs": [
    {
     "data": {
      "text/plain": [
       "'No Missing Data'"
      ]
     },
     "execution_count": 19,
     "metadata": {},
     "output_type": "execute_result"
    }
   ],
   "source": [
    "check_missing(df_clean)"
   ]
  },
  {
   "cell_type": "markdown",
   "id": "8a4557e6",
   "metadata": {},
   "source": [
    "### **Duplicate Data**"
   ]
  },
  {
   "cell_type": "code",
   "execution_count": 31,
   "id": "2b064bc8",
   "metadata": {},
   "outputs": [],
   "source": [
    "def check_duplicate(df):\n",
    "    print(f'Number of duplicates: {df.duplicated().sum()}',df.duplicated().sum())\n",
    "    per = df.duplicated().sum() / len(df)\n",
    "    print(f'Percentage of duplicates: {per}')\n",
    "    if df.duplicated().sum() > 0:\n",
    "        print(df[df.duplicated()])\n",
    "        print('dropped the duplicates')\n",
    "    else:\n",
    "        print(\"No duplicates\")"
   ]
  },
  {
   "cell_type": "code",
   "execution_count": 32,
   "id": "b815ce92",
   "metadata": {},
   "outputs": [
    {
     "name": "stdout",
     "output_type": "stream",
     "text": [
      "Number of duplicates: 0 0\n",
      "Percentage of duplicates: 0.0\n",
      "No duplicates\n"
     ]
    }
   ],
   "source": [
    "check_duplicate(df_clean)"
   ]
  },
  {
   "cell_type": "markdown",
   "id": "16eda474",
   "metadata": {},
   "source": [
    "### **Outliers**"
   ]
  },
  {
   "cell_type": "code",
   "execution_count": 69,
   "id": "833f2752",
   "metadata": {},
   "outputs": [],
   "source": [
    "import pandas as pd\n",
    "import seaborn as sns\n",
    "import matplotlib.pyplot as plt\n",
    "\n",
    "def show_outliers_all_columns(df, show_summary: bool = True):\n",
    "    \"\"\"\n",
    "    Displays professional boxplots for all numerical columns in the DataFrame.\n",
    "    Outliers are visually highlighted and counted.\n",
    "    \n",
    "    Parameters:\n",
    "    - df: pd.DataFrame\n",
    "    - show_summary: bool, whether to print the outlier summary (default: True)\n",
    "    \n",
    "    Returns:\n",
    "    - pd.DataFrame: Summary of outliers for each column\n",
    "    \"\"\"\n",
    "    # Filter numeric columns only\n",
    "    numeric_cols = df.select_dtypes(include=['number']).columns\n",
    "\n",
    "    if len(numeric_cols) == 0:\n",
    "        print(\"No numeric columns found.\")\n",
    "        return pd.DataFrame()\n",
    "\n",
    "    # Set plotting style once\n",
    "    sns.set(style=\"whitegrid\")\n",
    "    \n",
    "    # Initialize list to store outlier information\n",
    "    outlier_info = []\n",
    "    \n",
    "    for col in numeric_cols:\n",
    "        # Drop missing values for the column\n",
    "        col_data = df[col].dropna()\n",
    "        if col_data.empty:\n",
    "            continue\n",
    "        \n",
    "        # Calculate IQR and bounds\n",
    "        Q1 = col_data.quantile(0.25)\n",
    "        Q3 = col_data.quantile(0.75)\n",
    "        IQR = Q3 - Q1\n",
    "        lower_bound = Q1 - 1.5 * IQR\n",
    "        upper_bound = Q3 + 1.5 * IQR\n",
    "        \n",
    "        # Identify outliers\n",
    "        outliers = col_data[(col_data < lower_bound) | (col_data > upper_bound)]\n",
    "        count = len(outliers)\n",
    "        pct = count / len(col_data) if len(col_data) > 0 else 0\n",
    "        \n",
    "        # Store outlier info\n",
    "        outlier_info.append({\n",
    "            'column': col,\n",
    "            'outlier_count': count,\n",
    "            'outlier_percent': pct,\n",
    "            'lower_bound': lower_bound,\n",
    "            'upper_bound': upper_bound\n",
    "        })\n",
    "\n",
    "        # Plot boxplot\n",
    "        plt.figure(figsize=(10, 2.5))\n",
    "        ax = sns.boxplot(x=col_data, color=\"#2E86AB\", width=0.6, fliersize=5)\n",
    "        ax.set_title(f\"Boxplot of {col}\", fontsize=14, weight='bold')\n",
    "        ax.set_xlabel(col, fontsize=12)\n",
    "        \n",
    "        # Optional: Annotate outliers (adjusted for horizontal boxplot)\n",
    "        for outlier in outliers:\n",
    "            ax.text(outlier, 0, f\"{round(outlier, 2)}\", \n",
    "                    verticalalignment='center', fontsize=8, color='red')\n",
    "        \n",
    "        sns.despine(left=True)\n",
    "        plt.tight_layout()\n",
    "        plt.show()\n",
    "    \n",
    "    # Create and sort outlier summary DataFrame\n",
    "    outlier_summary = pd.DataFrame(outlier_info)\n",
    "    if not outlier_summary.empty:\n",
    "        outlier_summary = outlier_summary.sort_values('outlier_percent', ascending=False)\n",
    "    \n",
    "    # Print summary if requested\n",
    "    if show_summary and not outlier_summary.empty:\n",
    "        print(\"Outlier Summary (count and %):\")\n",
    "        for _, row in outlier_summary.iterrows():\n",
    "            print(f\"- {row['column']}: {row['outlier_count']} outliers ({row['outlier_percent']:.2%})\")\n",
    "    \n",
    "    return outlier_summary"
   ]
  },
  {
   "cell_type": "code",
   "execution_count": 70,
   "id": "64a15d99",
   "metadata": {},
   "outputs": [
    {
     "data": {
      "image/png": "[encoded data removed]",
      "text/plain": [
       "<Figure size 1000x250 with 1 Axes>"
      ]
     },
     "metadata": {},
     "output_type": "display_data"
    },
    {
     "data": {
      "image/png": "[encoded data removed]",
      "text/plain": [
       "<Figure size 1000x250 with 1 Axes>"
      ]
     },
     "metadata": {},
     "output_type": "display_data"
    },
    {
     "data": {
      "image/png": "[encoded data removed]",
      "text/plain": [
       "<Figure size 1000x250 with 1 Axes>"
      ]
     },
     "metadata": {},
     "output_type": "display_data"
    },
    {
     "data": {
      "image/png": "[encoded data removed]",
      "text/plain": [
       "<Figure size 1000x250 with 1 Axes>"
      ]
     },
     "metadata": {},
     "output_type": "display_data"
    },
    {
     "data": {
      "image/png": "[encoded data removed]",
      "text/plain": [
       "<Figure size 1000x250 with 1 Axes>"
      ]
     },
     "metadata": {},
     "output_type": "display_data"
    },
    {
     "data": {
      "image/png": "[encoded data removed]",
      "text/plain": [
       "<Figure size 1000x250 with 1 Axes>"
      ]
     },
     "metadata": {},
     "output_type": "display_data"
    },
    {
     "data": {
      "image/png": "[encoded data removed]",
      "text/plain": [
       "<Figure size 1000x250 with 1 Axes>"
      ]
     },
     "metadata": {},
     "output_type": "display_data"
    },
    {
     "name": "stdout",
     "output_type": "stream",
     "text": [
      "Outlier Summary (count and %):\n",
      "- Parch: 213 outliers (23.91%)\n",
      "- Fare: 116 outliers (13.02%)\n",
      "- SibSp: 46 outliers (5.16%)\n",
      "- Age: 29 outliers (3.25%)\n",
      "- PassengerId: 0 outliers (0.00%)\n",
      "- Survived: 0 outliers (0.00%)\n",
      "- Pclass: 0 outliers (0.00%)\n"
     ]
    }
   ],
   "source": [
    "outliesr=show_outliers_all_columns(df_clean)"
   ]
  },
  {
   "cell_type": "code",
   "execution_count": 71,
   "id": "e3e67a82",
   "metadata": {},
   "outputs": [
    {
     "name": "stdout",
     "output_type": "stream",
     "text": [
      "Upper Bound (Log Scale): 4.218128813765682\n",
      "Lower Bound (Log Scale): 1.0986122886681098\n"
     ]
    }
   ],
   "source": [
    "df_clean['Fare_log'] = np.log1p(df_clean['Fare'])\n",
    "upper_bound_log = np.log1p(66.9063)\n",
    "print(f\"Upper Bound (Log Scale): {upper_bound_log}\")\n",
    "lower_bound_log = np.log1p(2)\n",
    "print(f\"Lower Bound (Log Scale): {lower_bound_log}\")"
   ]
  },
  {
   "cell_type": "code",
   "execution_count": 72,
   "id": "c07bd1d1",
   "metadata": {},
   "outputs": [],
   "source": [
    "\n",
    "lower_extreme = 2  # Adjusting to avoid log(0) issues\n",
    "upper_extreme = 6  # Removing values close to 7\n",
    "\n",
    "# Filter the dataset\n",
    "df_clean_filtered = df_clean[(df_clean['Fare_log'] > lower_extreme) & (df_clean['Fare_log'] < upper_extreme)]"
   ]
  },
  {
   "cell_type": "code",
   "execution_count": 73,
   "id": "3194eff5",
   "metadata": {},
   "outputs": [
    {
     "name": "stdout",
     "output_type": "stream",
     "text": [
      "Number of rows removed: 21\n"
     ]
    },
    {
     "name": "stderr",
     "output_type": "stream",
     "text": [
      "C:\\Users\\DELL\\AppData\\Local\\Temp\\ipykernel_3204\\1969280007.py:4: SettingWithCopyWarning: \n",
      "A value is trying to be set on a copy of a slice from a DataFrame.\n",
      "Try using .loc[row_indexer,col_indexer] = value instead\n",
      "\n",
      "See the caveats in the documentation: https://pandas.pydata.org/pandas-docs/stable/user_guide/indexing.html#returning-a-view-versus-a-copy\n",
      "  df_clean_filtered['Fare_bin'] = pd.qcut(df_clean_filtered['Fare_log'], 4, labels=['Low', 'Medium', 'High', 'Very High'])\n",
      "C:\\Users\\DELL\\AppData\\Local\\Temp\\ipykernel_3204\\1969280007.py:5: FutureWarning: A value is trying to be set on a copy of a DataFrame or Series through chained assignment using an inplace method.\n",
      "The behavior will change in pandas 3.0. This inplace method will never work because the intermediate object on which we are setting values always behaves as a copy.\n",
      "\n",
      "For example, when doing 'df[col].method(value, inplace=True)', try using 'df.method({col: value}, inplace=True)' or df[col] = df[col].method(value) instead, to perform the operation inplace on the original object.\n",
      "\n",
      "\n",
      "  df_clean_filtered['Fare'].fillna(df_clean_filtered['Fare'].median(), inplace=True)\n",
      "C:\\Users\\DELL\\AppData\\Local\\Temp\\ipykernel_3204\\1969280007.py:5: SettingWithCopyWarning: \n",
      "A value is trying to be set on a copy of a slice from a DataFrame\n",
      "\n",
      "See the caveats in the documentation: https://pandas.pydata.org/pandas-docs/stable/user_guide/indexing.html#returning-a-view-versus-a-copy\n",
      "  df_clean_filtered['Fare'].fillna(df_clean_filtered['Fare'].median(), inplace=True)\n",
      "C:\\Users\\DELL\\AppData\\Local\\Temp\\ipykernel_3204\\1969280007.py:6: FutureWarning: A value is trying to be set on a copy of a DataFrame or Series through chained assignment using an inplace method.\n",
      "The behavior will change in pandas 3.0. This inplace method will never work because the intermediate object on which we are setting values always behaves as a copy.\n",
      "\n",
      "For example, when doing 'df[col].method(value, inplace=True)', try using 'df.method({col: value}, inplace=True)' or df[col] = df[col].method(value) instead, to perform the operation inplace on the original object.\n",
      "\n",
      "\n",
      "  df_clean_filtered['Fare_log'].fillna(df_clean_filtered['Fare_log'].median(), inplace=True)\n",
      "C:\\Users\\DELL\\AppData\\Local\\Temp\\ipykernel_3204\\1969280007.py:6: SettingWithCopyWarning: \n",
      "A value is trying to be set on a copy of a slice from a DataFrame\n",
      "\n",
      "See the caveats in the documentation: https://pandas.pydata.org/pandas-docs/stable/user_guide/indexing.html#returning-a-view-versus-a-copy\n",
      "  df_clean_filtered['Fare_log'].fillna(df_clean_filtered['Fare_log'].median(), inplace=True)\n"
     ]
    }
   ],
   "source": [
    "# Check the number of removed rows\n",
    "removed_rows = df_clean.shape[0] - df_clean_filtered.shape[0]\n",
    "print(f\"Number of rows removed: {removed_rows}\")\n",
    "df_clean_filtered['Fare_bin'] = pd.qcut(df_clean_filtered['Fare_log'], 4, labels=['Low', 'Medium', 'High', 'Very High'])\n",
    "df_clean_filtered['Fare'].fillna(df_clean_filtered['Fare'].median(), inplace=True)\n",
    "df_clean_filtered['Fare_log'].fillna(df_clean_filtered['Fare_log'].median(), inplace=True)\n",
    "    "
   ]
  },
  {
   "cell_type": "code",
   "execution_count": 75,
   "id": "8d2879e6",
   "metadata": {},
   "outputs": [
    {
     "name": "stdout",
     "output_type": "stream",
     "text": [
      "Removed 7 lower outliers from 'age' column.\n"
     ]
    }
   ],
   "source": [
    "Q1 = df_clean_filtered['Age'].quantile(0.25)\n",
    "Q3 = df_clean_filtered['Age'].quantile(0.75)\n",
    "IQR = Q3 - Q1\n",
    " # Calculate lower bound\n",
    "lower_bound_age = Q1 - 1.5 * IQR\n",
    "# Filter out lower outliers\n",
    "df_cleaned = df_clean_filtered[df_clean_filtered['Age'] >= lower_bound_age]\n",
    "    \n",
    "print(f\"Removed {len(df_clean_filtered) - len(df_cleaned)} lower outliers from 'age' column.\")"
   ]
  },
  {
   "cell_type": "code",
   "execution_count": 77,
   "id": "95a79e3f",
   "metadata": {},
   "outputs": [
    {
     "name": "stdout",
     "output_type": "stream",
     "text": [
      "<class 'pandas.core.frame.DataFrame'>\n",
      "Index: 863 entries, 0 to 890\n",
      "Data columns (total 13 columns):\n",
      " #   Column       Non-Null Count  Dtype   \n",
      "---  ------       --------------  -----   \n",
      " 0   PassengerId  863 non-null    float64 \n",
      " 1   Survived     863 non-null    float64 \n",
      " 2   Pclass       863 non-null    float64 \n",
      " 3   Name         863 non-null    object  \n",
      " 4   Sex          863 non-null    object  \n",
      " 5   Age          863 non-null    float64 \n",
      " 6   SibSp        863 non-null    float64 \n",
      " 7   Parch        863 non-null    float64 \n",
      " 8   Ticket       863 non-null    object  \n",
      " 9   Fare         863 non-null    float64 \n",
      " 10  Embarked     863 non-null    object  \n",
      " 11  Fare_log     863 non-null    float64 \n",
      " 12  Fare_bin     863 non-null    category\n",
      "dtypes: category(1), float64(8), object(4)\n",
      "memory usage: 88.7+ KB\n"
     ]
    }
   ],
   "source": [
    "df_cleaned.info()"
   ]
  },
  {
   "cell_type": "markdown",
   "id": "7ae8367a",
   "metadata": {},
   "source": [
    "### **Data types**"
   ]
  },
  {
   "cell_type": "code",
   "execution_count": 83,
   "id": "c3793201",
   "metadata": {},
   "outputs": [
    {
     "data": {
      "text/plain": [
       "Embarked\n",
       "S    622\n",
       "C    164\n",
       "Q     77\n",
       "Name: count, dtype: int64"
      ]
     },
     "execution_count": 83,
     "metadata": {},
     "output_type": "execute_result"
    }
   ],
   "source": [
    "df_cleaned['Embarked'].value_counts()"
   ]
  },
  {
   "cell_type": "code",
   "execution_count": 85,
   "id": "2c751748",
   "metadata": {},
   "outputs": [
    {
     "name": "stderr",
     "output_type": "stream",
     "text": [
      "C:\\Users\\DELL\\AppData\\Local\\Temp\\ipykernel_3204\\1623129072.py:3: SettingWithCopyWarning: \n",
      "A value is trying to be set on a copy of a slice from a DataFrame.\n",
      "Try using .loc[row_indexer,col_indexer] = value instead\n",
      "\n",
      "See the caveats in the documentation: https://pandas.pydata.org/pandas-docs/stable/user_guide/indexing.html#returning-a-view-versus-a-copy\n",
      "  df_cleaned[col] = df_cleaned[col].astype('category')\n",
      "C:\\Users\\DELL\\AppData\\Local\\Temp\\ipykernel_3204\\1623129072.py:3: SettingWithCopyWarning: \n",
      "A value is trying to be set on a copy of a slice from a DataFrame.\n",
      "Try using .loc[row_indexer,col_indexer] = value instead\n",
      "\n",
      "See the caveats in the documentation: https://pandas.pydata.org/pandas-docs/stable/user_guide/indexing.html#returning-a-view-versus-a-copy\n",
      "  df_cleaned[col] = df_cleaned[col].astype('category')\n",
      "C:\\Users\\DELL\\AppData\\Local\\Temp\\ipykernel_3204\\1623129072.py:3: SettingWithCopyWarning: \n",
      "A value is trying to be set on a copy of a slice from a DataFrame.\n",
      "Try using .loc[row_indexer,col_indexer] = value instead\n",
      "\n",
      "See the caveats in the documentation: https://pandas.pydata.org/pandas-docs/stable/user_guide/indexing.html#returning-a-view-versus-a-copy\n",
      "  df_cleaned[col] = df_cleaned[col].astype('category')\n",
      "C:\\Users\\DELL\\AppData\\Local\\Temp\\ipykernel_3204\\1623129072.py:3: SettingWithCopyWarning: \n",
      "A value is trying to be set on a copy of a slice from a DataFrame.\n",
      "Try using .loc[row_indexer,col_indexer] = value instead\n",
      "\n",
      "See the caveats in the documentation: https://pandas.pydata.org/pandas-docs/stable/user_guide/indexing.html#returning-a-view-versus-a-copy\n",
      "  df_cleaned[col] = df_cleaned[col].astype('category')\n"
     ]
    }
   ],
   "source": [
    "categorical_df=df_cleaned.select_dtypes(include=['object'])\n",
    "for col in categorical_df.columns:\n",
    "    df_cleaned[col] = df_cleaned[col].astype('category') "
   ]
  },
  {
   "cell_type": "code",
   "execution_count": 86,
   "id": "3559addf",
   "metadata": {},
   "outputs": [
    {
     "name": "stdout",
     "output_type": "stream",
     "text": [
      "<class 'pandas.core.frame.DataFrame'>\n",
      "Index: 863 entries, 0 to 890\n",
      "Data columns (total 13 columns):\n",
      " #   Column       Non-Null Count  Dtype   \n",
      "---  ------       --------------  -----   \n",
      " 0   PassengerId  863 non-null    float64 \n",
      " 1   Survived     863 non-null    float64 \n",
      " 2   Pclass       863 non-null    float64 \n",
      " 3   Name         863 non-null    category\n",
      " 4   Sex          863 non-null    category\n",
      " 5   Age          863 non-null    float64 \n",
      " 6   SibSp        863 non-null    float64 \n",
      " 7   Parch        863 non-null    float64 \n",
      " 8   Ticket       863 non-null    category\n",
      " 9   Fare         863 non-null    float64 \n",
      " 10  Embarked     863 non-null    category\n",
      " 11  Fare_log     863 non-null    float64 \n",
      " 12  Fare_bin     863 non-null    category\n",
      "dtypes: category(5), float64(8)\n",
      "memory usage: 127.4 KB\n"
     ]
    }
   ],
   "source": [
    "df_cleaned.info()"
   ]
  },
  {
   "cell_type": "code",
   "execution_count": 87,
   "id": "aeb39609",
   "metadata": {},
   "outputs": [],
   "source": [
    "df_cleaned.to_csv('./DataSet/df_cleaned.csv', index=False)"
   ]
  },
  {
   "cell_type": "markdown",
   "id": "d58dc904",
   "metadata": {},
   "source": [
    "## **Exploratory Data Analysis(EDA)**"
   ]
  },
  {
   "cell_type": "markdown",
   "id": "61d913ac",
   "metadata": {},
   "source": [
    "### correlation "
   ]
  },
  {
   "cell_type": "code",
   "execution_count": 90,
   "id": "5cd2923e",
   "metadata": {},
   "outputs": [
    {
     "data": {
      "image/png": "[encoded data removed]",
      "text/plain": [
       "<Figure size 1000x800 with 2 Axes>"
      ]
     },
     "metadata": {},
     "output_type": "display_data"
    }
   ],
   "source": [
    "numerical_df=df_cleaned.select_dtypes(include=['int64','float64'])\n",
    "cm = numerical_df.corr()\n",
    "plt.figure(figsize=(10, 8))\n",
    "sns.heatmap(cm, annot=True, cmap='coolwarm', linewidths=0.5)\n",
    "plt.show()"
   ]
  },
  {
   "cell_type": "markdown",
   "id": "0e64527b",
   "metadata": {},
   "source": [
    "## **Advanced analysis**"
   ]
  },
  {
   "cell_type": "code",
   "execution_count": null,
   "id": "17667640",
   "metadata": {},
   "outputs": [],
   "source": []
  },
  {
   "cell_type": "code",
   "execution_count": null,
   "metadata": {},
   "outputs": [],
   "source": []
  },
  {
   "cell_type": "markdown",
   "id": "c9a9739a",
   "metadata": {},
   "source": [
    "## **Data preprocessing**"
   ]
  },
  {
   "cell_type": "code",
   "execution_count": null,
   "metadata": {},
   "outputs": [],
   "source": []
  },
  {
   "cell_type": "markdown",
   "id": "06a65f0d",
   "metadata": {},
   "source": [
    "## **Feature Engenearing**"
   ]
  },
  {
   "cell_type": "code",
   "execution_count": null,
   "id": "7772fdbe",
   "metadata": {},
   "outputs": [],
   "source": []
  },
  {
   "cell_type": "markdown",
   "id": "5aca1c60",
   "metadata": {},
   "source": [
    "## **split data into train and test**"
   ]
  },
  {
   "cell_type": "code",
   "execution_count": null,
   "id": "6e074244",
   "metadata": {},
   "outputs": [],
   "source": []
  },
  {
   "cell_type": "markdown",
   "id": "6427760c",
   "metadata": {},
   "source": [
    "## **Model Selection and Training**"
   ]
  },
  {
   "cell_type": "code",
   "execution_count": null,
   "id": "ce57e92a",
   "metadata": {},
   "outputs": [],
   "source": []
  },
  {
   "cell_type": "code",
   "execution_count": null,
   "id": "4d0561df",
   "metadata": {},
   "outputs": [],
   "source": []
  },
  {
   "cell_type": "markdown",
   "id": "46514ed5",
   "metadata": {},
   "source": [
    "## **Model Evaluation**"
   ]
  },
  {
   "cell_type": "code",
   "execution_count": null,
   "id": "f24dd73f",
   "metadata": {},
   "outputs": [],
   "source": []
  },
  {
   "cell_type": "code",
   "execution_count": null,
   "id": "53242c32",
   "metadata": {},
   "outputs": [],
   "source": []
  },
  {
   "cell_type": "markdown",
   "id": "73b05355",
   "metadata": {},
   "source": [
    "## **Result and Compare Models**"
   ]
  },
  {
   "cell_type": "code",
   "execution_count": null,
   "id": "526bce18",
   "metadata": {},
   "outputs": [],
   "source": []
  },
  {
   "cell_type": "code",
   "execution_count": null,
   "metadata": {},
   "outputs": [],
   "source": []
  }
 ],
 "metadata": {
  "kernelspec": {
   "display_name": "Python 3",
   "language": "python",
   "name": "python3"
  },
  "language_info": {
   "codemirror_mode": {
    "name": "ipython",
    "version": 3
   },
   "file_extension": ".py",
   "mimetype": "text/x-python",
   "name": "python",
   "nbconvert_exporter": "python",
   "pygments_lexer": "ipython3",
   "version": "3.10.9"
  }
 },
 "nbformat": 4,
 "nbformat_minor": 5
}
